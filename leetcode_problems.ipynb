{
  "nbformat": 4,
  "nbformat_minor": 0,
  "metadata": {
    "colab": {
      "name": "leetcode problems.ipynb",
      "provenance": [],
      "collapsed_sections": [],
      "authorship_tag": "ABX9TyOWcZWJrE3irUkqlca5sRCA",
      "include_colab_link": true
    },
    "kernelspec": {
      "name": "python3",
      "display_name": "Python 3"
    },
    "language_info": {
      "name": "python"
    }
  },
  "cells": [
    {
      "cell_type": "markdown",
      "metadata": {
        "id": "view-in-github",
        "colab_type": "text"
      },
      "source": [
        "<a href=\"https://colab.research.google.com/github/jvmssnk/leetcode-problems/blob/master/leetcode_problems.ipynb\" target=\"_parent\"><img src=\"https://colab.research.google.com/assets/colab-badge.svg\" alt=\"Open In Colab\"/></a>"
      ]
    },
    {
      "cell_type": "code",
      "metadata": {
        "id": "1ZISgNZHgWlR"
      },
      "source": [
        "#\n",
        "class Solution:\n",
        "    def twoSum(self,nums,target):\n",
        "        kp=len(nums)\n",
        "        c=0\n",
        "        p=[]\n",
        "        for i in range(kp):\n",
        "            for j in range(i+1,kp):\n",
        "                if nums[i]+nums[j]==target:\n",
        "                    p.append(i)\n",
        "                    p.append(j)\n",
        "                    c=c+1\n",
        "                    if c==1:\n",
        "                        break\n",
        "        return p\n",
        "                    \n",
        "                \n",
        "                    \n",
        "    \n",
        "                \n",
        "        "
      ],
      "execution_count": null,
      "outputs": []
    },
    {
      "cell_type": "code",
      "metadata": {
        "id": "SYLQeP2Igdok"
      },
      "source": [
        "# Definition for singly-linked list.\n",
        "# class ListNode:\n",
        "#     def __init__(self, val=0, next=None):\n",
        "#         self.val = val\n",
        "#         self.next = next\n",
        "class Solution:\n",
        "    def addTwoNumbers(self, l1, l2):\n",
        "        l11=[]\n",
        "        l22=[]\n",
        "        k=1\n",
        "        pp=1\n",
        "        while k :\n",
        "            l11.append(l1.val)\n",
        "            \n",
        "            if l1.next==None:\n",
        "                #l11.append(l1.val)\n",
        "                k=0\n",
        "            l1=l1.next\n",
        "            \n",
        "        while pp:\n",
        "            l22.append(l2.val)\n",
        "            \n",
        "            if l2.next==None:\n",
        "                #l22.append(l2.val)\n",
        "                pp=0\n",
        "            l2=l2.next\n",
        "            print(l11,l22)\n",
        "        l11.reverse()\n",
        "        l22.reverse()\n",
        "        carry=0\n",
        "        st=[str(k) for k in l11]\n",
        "        st1=[str(k1) for k1 in l22]\n",
        "        st=\"\".join(st)\n",
        "        st1=\"\".join(st1)\n",
        "        k=int(st)+int(st1)\n",
        "        d=[]\n",
        "        k=str(k)\n",
        "        for ii in k:\n",
        "            d.append(int(ii))\n",
        "        #print(d)\n",
        "        lis=ListNode(d[0])\n",
        "        for ip in d[1:]:\n",
        "            lis=ListNode(ip,lis)\n",
        "        return lis\n",
        "            \n",
        "        "
      ],
      "execution_count": null,
      "outputs": []
    },
    {
      "cell_type": "code",
      "metadata": {
        "id": "cr05mnqWgq57"
      },
      "source": [
        "class Solution:\n",
        "    def findMedianSortedArrays(self, nums1: List[int], nums2: List[int]) -> float:\n",
        "        num3=nums1+nums2\n",
        "        k=len(num3)\n",
        "        if k==1:\n",
        "            return num3[0]\n",
        "        if k==0:\n",
        "            return 1\n",
        "        for i in range(k):\n",
        "            for j in range(k):\n",
        "                if num3[i]<num3[j]:\n",
        "                    num3[i],num3[j]=num3[j],num3[i]\n",
        "        print(num3)\n",
        "        #num3.sort()   #other way directly\n",
        "        if k%2==1:\n",
        "            return num3[(k//2)]\n",
        "        else:\n",
        "            return (num3[k//2]+num3[(k//2)-1])/2\n",
        "                "
      ],
      "execution_count": null,
      "outputs": []
    },
    {
      "cell_type": "code",
      "metadata": {
        "id": "NNSaYc_rgq8j"
      },
      "source": [
        "class Solution:\n",
        "    def isPalindrome(self, x: int) -> bool:\n",
        "        n=x\n",
        "        re=0\n",
        "        if n<0:\n",
        "            return False\n",
        "        while True:\n",
        "            r=n%10\n",
        "            n=n-r\n",
        "            n=n/10\n",
        "            re=re*10+r\n",
        "            if n==0:\n",
        "                break\n",
        "        if re==x:\n",
        "            return True\n",
        "        else:\n",
        "            return False\n",
        "        "
      ],
      "execution_count": null,
      "outputs": []
    },
    {
      "cell_type": "code",
      "metadata": {
        "id": "w5K51sVcgq-u"
      },
      "source": [
        "# Definition for singly-linked list.\n",
        "# class ListNode:\n",
        "#     def __init__(self, val=0, next=None):\n",
        "#         self.val = val\n",
        "#         self.next = next\n",
        "class Solution:\n",
        "    def removeNthFromEnd(self,head,n):\n",
        "        k=1\n",
        "        temp=head\n",
        "        p=[]\n",
        "        while k:\n",
        "            p.append(temp.val)\n",
        "            if temp.next==None:\n",
        "                break\n",
        "            temp=temp.next\n",
        "        ji=len(p)\n",
        "        p.pop(-n)\n",
        "        p.reverse()\n",
        "        if ji==1:\n",
        "            head=None\n",
        "            return head\n",
        "            \n",
        "        else:\n",
        "            lis=ListNode(p[0])\n",
        "            for i in p[1:]:\n",
        "                lis=ListNode(i,lis)\n",
        "            return lis\n",
        "                \n",
        "            \n",
        "            \n",
        "        "
      ],
      "execution_count": null,
      "outputs": []
    },
    {
      "cell_type": "code",
      "metadata": {
        "id": "UwK70PPwgrBK"
      },
      "source": [
        "# Definition for singly-linked list.\n",
        "# class ListNode:\n",
        "#     def __init__(self, val=0, next=None):\n",
        "#         self.val = val\n",
        "#         self.next = next\n",
        "class Solution:\n",
        "    def mergeTwoLists(self, l1: ListNode, l2: ListNode) -> ListNode:\n",
        "        temp=l1\n",
        "        temp1=l2\n",
        "        l=[]\n",
        "        l1=[]\n",
        "        temp2=l2\n",
        "        if l1==None:\n",
        "            while temp2:\n",
        "                l.append(temp2.val)\n",
        "        while temp:\n",
        "            l.append(temp.val)\n",
        "            temp=temp.next\n",
        "        while temp1:\n",
        "            l.append(temp1.val)\n",
        "            temp1=temp1.next\n",
        "        print(l)\n",
        "        l.sort()\n",
        "        #l.reverse()\n",
        "        lp=len(l)\n",
        "        if lp==0:\n",
        "            head=None\n",
        "            return head\n",
        "        #print(l[-1])\n",
        "        lis=ListNode(l[-1])\n",
        "        for i in l[-2::-1]:\n",
        "            lis=ListNode(i,lis)\n",
        "        return lis\n",
        "        \n",
        "            \n",
        "        \n",
        "            \n",
        "        "
      ],
      "execution_count": null,
      "outputs": []
    },
    {
      "cell_type": "code",
      "metadata": {
        "id": "I-9YZOYwgrDn"
      },
      "source": [
        "# Definition for singly-linked list.\n",
        "# class ListNode:\n",
        "#     def __init__(self, val=0, next=None):\n",
        "#         self.val = val\n",
        "#         self.next = next\n",
        "class Solution:\n",
        "    def mergeKLists(self, lists):\n",
        "        l=[]\n",
        "        k=1\n",
        "        for i in lists:\n",
        "            temp=i\n",
        "            while temp:\n",
        "                l.append(temp.val)\n",
        "                temp=temp.next\n",
        "        l.sort()\n",
        "        le=len(l)\n",
        "        if le==0:\n",
        "            return None\n",
        "        f=ListNode(l[-1])\n",
        "        for i in l[-2::-1]:\n",
        "            f=ListNode(i,f)\n",
        "        return f\n",
        "                "
      ],
      "execution_count": null,
      "outputs": []
    },
    {
      "cell_type": "code",
      "metadata": {
        "id": "mOa4vWGmgrGP"
      },
      "source": [
        "# Definition for singly-linked list.\n",
        "# class ListNode:\n",
        "#     def __init__(self, val=0, next=None):\n",
        "#         self.val = val\n",
        "#         self.next = next\n",
        "class Solution:\n",
        "    def swapPairs(self, head):\n",
        "        k=1\n",
        "        l=[]\n",
        "        temp=head\n",
        "        if head==None:\n",
        "            return None\n",
        "        while k:\n",
        "            l.append(temp)\n",
        "            if temp.next==None:\n",
        "                k=0\n",
        "            temp=temp.next\n",
        "        #print(l)\n",
        "        le=len(l)\n",
        "        #print(le)\n",
        "        if le==1:\n",
        "            return head\n",
        "        o=0\n",
        "        for ii in range(le//2):\n",
        "            l[o],l[o+1]=l[o+1],l[o]\n",
        "            o=o+2\n",
        "        for add in range(le-1):\n",
        "            l[add].next=l[add+1]\n",
        "        l[-1].next=None\n",
        "        return l[0]\n",
        "        \n",
        "        \n",
        "       \n",
        "\n",
        "        \n",
        "        \n",
        "       \n"
      ],
      "execution_count": null,
      "outputs": []
    },
    {
      "cell_type": "code",
      "metadata": {
        "id": "BgZJGj-WgrIt"
      },
      "source": [
        "class Solution:\n",
        "    def search(self, nums: List[int], target: int) -> int:\n",
        "        k=len(nums)\n",
        "        for i in range(k):\n",
        "            if nums[i]==target:\n",
        "                return i\n",
        "        return -1\n",
        "        "
      ],
      "execution_count": null,
      "outputs": []
    },
    {
      "cell_type": "code",
      "metadata": {
        "id": "Ekepq--EgrLE"
      },
      "source": [
        "# Definition for singly-linked list.\n",
        "# class ListNode:\n",
        "#     def __init__(self, val=0, next=None):\n",
        "#         self.val = val\n",
        "#         self.next = next\n",
        "class Solution:\n",
        "    def rotateRight(self, head: ListNode, kl: int) -> ListNode:\n",
        "        temp=head\n",
        "        k=1\n",
        "        l=[]\n",
        "        \n",
        "        if head==None:\n",
        "            return None\n",
        "        while k:\n",
        "            l.append(temp.val)\n",
        "            if temp.next==None:\n",
        "                break\n",
        "            temp=temp.next\n",
        "        le=len(l)\n",
        "        #if kl%le==0:\n",
        "         #   return head\n",
        "        if le==1:\n",
        "            return head\n",
        "        for i in range(0,kl%le):\n",
        "            l.insert(0,l[-1])\n",
        "            l.pop()\n",
        "          \n",
        "        lis=ListNode(l[-1])\n",
        "        \n",
        "        for j in l[-2::-1]:\n",
        "            lis=ListNode(j,lis)\n",
        "            \n",
        "        return lis\n",
        "        "
      ],
      "execution_count": null,
      "outputs": []
    },
    {
      "cell_type": "code",
      "metadata": {
        "id": "1n--UHYmgrOM"
      },
      "source": [
        "class Solution:\n",
        "    def searchMatrix(self, matrix: List[List[int]], target: int) -> bool:\n",
        "        '''k=len(matrix)\n",
        "        k1=len(matrix[0])\n",
        "        l=[]\n",
        "        for i in range(k):\n",
        "            for j in range(k1):\n",
        "                l.append(matrix[i][j])\n",
        "        for i in l:\n",
        "            if i==target:\n",
        "                return True\n",
        "        return False'''\n",
        "        c=[]\n",
        "        for i in range(len(matrix)):\n",
        "            c+=matrix[i]\n",
        "            #print(c)\n",
        "        \n",
        "        left=0\n",
        "        right=len(c)-1\n",
        "        while(left<=right):\n",
        "            mid=left+(right-left)//2\n",
        "            \n",
        "            if(c[mid]==target):\n",
        "                return True\n",
        "            elif(c[mid]>target):\n",
        "                right=mid-1\n",
        "            elif(c[mid]<target):\n",
        "                left=mid+1\n",
        "        return False\n",
        "\n",
        "        \n",
        "    \n",
        "    \n",
        "    # obser we can do 2d as 1d in one for loop don't require 2 huuuu\n",
        "    \n",
        "    #in this place binary search is ude because given matrix is sorted in order\n",
        "            "
      ],
      "execution_count": null,
      "outputs": []
    },
    {
      "cell_type": "code",
      "metadata": {
        "id": "5dbuWGyjgrQ0"
      },
      "source": [
        "class Solution:\n",
        "    def search(self, nums: List[int], target: int) -> bool:\n",
        "        k=len(nums)\n",
        "        for i in range(k):\n",
        "            if nums[i]==target:\n",
        "                return True\n",
        "        return False\n",
        "        "
      ],
      "execution_count": null,
      "outputs": []
    },
    {
      "cell_type": "code",
      "metadata": {
        "id": "GQEHQ_ZngrTf"
      },
      "source": [
        "# Definition for singly-linked list.\n",
        "# class ListNode:\n",
        "#     def _init_(self, val=0, next=None):\n",
        "#         self.val = val\n",
        "#         self.next = next\n",
        "class Solution:\n",
        "    def deleteDuplicates(self, head: ListNode):\n",
        "        l=[]\n",
        "        l2=[]\n",
        "        l3=[]\n",
        "        temp=head\n",
        "        while(temp):\n",
        "            l.append(temp.val)\n",
        "            temp=temp.next\n",
        "        le = len(l)       \n",
        "        if(le >=1):\n",
        "            for i in l:\n",
        "                c=0\n",
        "                for j in l:\n",
        "                    if(i == j):\n",
        "                        c=c+1\n",
        "                if(c==1):\n",
        "                    l2.append(i)\n",
        "            l2.sort        \n",
        "            le2=len(l2)\n",
        "            if(le2>0):\n",
        "                lis=ListNode(l2[-1])\n",
        "                for i in l2[-2::-1]:\n",
        "                    lis = ListNode(i,lis)\n",
        "                return lis  \n",
        "            else:\n",
        "                head=None\n",
        "                return head\n",
        "        else:\n",
        "            return head\n",
        "        "
      ],
      "execution_count": null,
      "outputs": []
    },
    {
      "cell_type": "code",
      "metadata": {
        "id": "b1AgxbRdgrWU"
      },
      "source": [
        "# Definition for singly-linked list.\n",
        "# class ListNode:\n",
        "#     def __init__(self, val=0, next=None):\n",
        "#         self.val = val\n",
        "#         self.next = next\n",
        "class Solution:\n",
        "    def deleteDuplicates(self, head: ListNode) -> ListNode:\n",
        "        k=1\n",
        "        temp=head\n",
        "        p=[]\n",
        "        if head==None:\n",
        "            return head\n",
        "        while k:\n",
        "            p.append(temp.val)\n",
        "            if temp.next==None:\n",
        "                break\n",
        "            temp=temp.next\n",
        "        p=set(p)\n",
        "        p=list(p)\n",
        "        p.sort()\n",
        "        pi=ListNode(p[-1])\n",
        "        for i in p[-2::-1]:\n",
        "            pi=ListNode(i,pi)\n",
        "        return pi\n",
        "        \n",
        "        "
      ],
      "execution_count": null,
      "outputs": []
    },
    {
      "cell_type": "code",
      "metadata": {
        "id": "iDW2zdH8grY3"
      },
      "source": [
        "class Solution:\n",
        "    def partition(self, head: ListNode, x: int) -> ListNode:\n",
        "        fdum, bdum = ListNode(0), ListNode(0)\n",
        "        front, back, curr = fdum, bdum, head\n",
        "        while curr:\n",
        "            if curr.val < x:\n",
        "                front.next = curr\n",
        "                front = curr\n",
        "            else:\n",
        "                back.next = curr\n",
        "                back = curr\n",
        "            curr = curr.next\n",
        "        front.next, back.next = bdum.next, None\n",
        "        return fdum.next\n",
        "\n",
        "\n",
        "'''\n",
        "\n",
        "\n",
        "# Definition for singly-linked list.\n",
        "# class ListNode:\n",
        "#     def __init__(self, val=0, next=None):\n",
        "#         self.val = val\n",
        "#         self.next = next\n",
        "class Solution:\n",
        "    def partition(self, head: ListNode, x: int) -> ListNode:\n",
        "        k=1\n",
        "        temp=head\n",
        "        p=[]\n",
        "        if head==None:\n",
        "            return head\n",
        "        while k:\n",
        "            p.append(temp.val)\n",
        "            if temp.next==None:\n",
        "                break\n",
        "            temp=temp.next\n",
        "        lo=[]\n",
        "        le=len(p)\n",
        "\n",
        "        #print(le)\n",
        "        c=0\n",
        "        for i in range(le):\n",
        "            if p[i]<x:\n",
        "                lo.append(p[i])\n",
        "                p[i]=k\n",
        "                c=c+1\n",
        "        \n",
        "        print(c)\n",
        "        for i in range(c):\n",
        "            p.remove(k)\n",
        "        print(p)\n",
        "        p=lo+p\n",
        "        lis=ListNode(p[-1])\n",
        "        for i in p[-2::-1]:\n",
        "            lis=ListNode(i,lis)\n",
        "        return lis\n",
        "                '''\n",
        "                \n",
        "        "
      ],
      "execution_count": null,
      "outputs": []
    },
    {
      "cell_type": "code",
      "metadata": {
        "id": "CrDo1YBvgrbm"
      },
      "source": [
        "# Definition for a binary tree node.\n",
        "# class TreeNode:\n",
        "#     def __init__(self, val=0, left=None, right=None):\n",
        "#         self.val = val\n",
        "#         self.left = left\n",
        "#         self.right = right\n",
        "class Solution:\n",
        "    def inorderTraversal(self, root: TreeNode) -> List[int]:\n",
        "        l=[]\n",
        "        stac=[]\n",
        "        temp=root\n",
        "        while stac or temp:\n",
        "            if temp:\n",
        "                stac.append(temp)\n",
        "                print(temp.val)\n",
        "                temp=temp.left\n",
        "                print(\"iam left\")\n",
        "            else:\n",
        "                temp=stac.pop()\n",
        "                l.append(temp.val)\n",
        "                print(temp.val,\"in else\")\n",
        "                temp=temp.right\n",
        "                print(\"iam right\")\n",
        "        return l\n",
        "    \n",
        "    \n",
        "        \n",
        "        \n",
        "        "
      ],
      "execution_count": null,
      "outputs": []
    },
    {
      "cell_type": "code",
      "metadata": {
        "id": "x8HLjH84greI"
      },
      "source": [
        "# Definition for a binary tree node.\n",
        "# class TreeNode:\n",
        "#     def __init__(self, val=0, left=None, right=None):\n",
        "#         self.val = val\n",
        "#         self.left = left\n",
        "#         self.right = right\n",
        "class Solution:\n",
        "    def isSameTree(self, p: TreeNode, q: TreeNode) -> bool:\n",
        "        if p==None or q==None:\n",
        "            if p==None and q==None:\n",
        "                return True\n",
        "            return False\n",
        "        elif p.val==q.val:\n",
        "            return self.isSameTree(p.left,q.left) and self.isSameTree(p.right,q.right) \n",
        "        return False"
      ],
      "execution_count": null,
      "outputs": []
    },
    {
      "cell_type": "code",
      "metadata": {
        "id": "xlNhagOOgrgj"
      },
      "source": [
        "class Solution:\n",
        "    def isPalindrome(self, s: str) -> bool:\n",
        "        l=[]\n",
        "        al=\"\"\n",
        "        for c in s:\n",
        "\n",
        "            if c.isalnum():\n",
        "\n",
        "                al += c\n",
        "        #al=\"\".join(al)\n",
        "        print(al)\n",
        "        le=len(al)\n",
        "        if le==1:\n",
        "            return True\n",
        "        k=al\n",
        "        print(k)\n",
        "        al=al[::-1]\n",
        "        al=al.lower()\n",
        "        print(l)\n",
        "        k=k.lower()\n",
        "        if k == al:\n",
        "            return True\n",
        "        else:\n",
        "            return False\n",
        "                "
      ],
      "execution_count": null,
      "outputs": []
    },
    {
      "cell_type": "code",
      "metadata": {
        "id": "ylcSbzBJiaHt"
      },
      "source": [
        "# Definition for singly-linked list.\n",
        "# class ListNode:\n",
        "#     def __init__(self, x):\n",
        "#         self.val = x\n",
        "#         self.next = None\n",
        "\n",
        "class Solution:\n",
        "    def hasCycle(self, head: ListNode) -> bool:\n",
        "        k=\"hiu\"\n",
        "        temp=head\n",
        "        while temp:\n",
        "            if temp.val==k:\n",
        "                return True\n",
        "            temp.val=k\n",
        "            temp=temp.next\n",
        "        return False\n"
      ],
      "execution_count": null,
      "outputs": []
    },
    {
      "cell_type": "code",
      "metadata": {
        "id": "WEU8AaHDiaKF"
      },
      "source": [
        "# Definition for singly-linked list.\n",
        "# class ListNode:\n",
        "#     def __init__(self, x):\n",
        "#         self.val = x\n",
        "#         self.next = None\n",
        "\n",
        "class Solution:\n",
        "    def detectCycle(self, head: ListNode) -> ListNode:\n",
        "        current = head\n",
        "        while current:\n",
        "            if current.val == \"Seen\":\n",
        "                return current\n",
        "            current.val = \"Seen\"\n",
        "            current = current.next\n",
        "        return None\n",
        "\n",
        "        "
      ],
      "execution_count": null,
      "outputs": []
    },
    {
      "cell_type": "code",
      "metadata": {
        "id": "vBcU43LhiaMh"
      },
      "source": [
        "# Definition for singly-linked list.\n",
        "# class ListNode:\n",
        "#     def __init__(self, val=0, next=None):\n",
        "#         self.val = val\n",
        "#         self.next = next\n",
        "class Solution:\n",
        "    def insertionSortList(self, head: ListNode) -> ListNode:\n",
        "        k=1\n",
        "        temp=head\n",
        "        p=[]\n",
        "        while k:\n",
        "            p.append(temp.val)\n",
        "            if temp.next==None:\n",
        "                break\n",
        "            temp=temp.next\n",
        "        p.sort()\n",
        "        lis=ListNode(p[-1])\n",
        "        for i in p[-2::-1]:\n",
        "            lis=ListNode(i,lis)\n",
        "        return lis\n",
        "        "
      ],
      "execution_count": null,
      "outputs": []
    },
    {
      "cell_type": "code",
      "metadata": {
        "id": "uXG_nmu9iaOy"
      },
      "source": [
        "# Definition for singly-linked list.\n",
        "# class ListNode:\n",
        "#     def __init__(self, val=0, next=None):\n",
        "#         self.val = val\n",
        "#         self.next = next\n",
        "class Solution:\n",
        "    def reverseList(self, head: ListNode) -> ListNode:\n",
        "        temp=head\n",
        "        k=1\n",
        "        l=[]\n",
        "        \n",
        "        if head==None:\n",
        "            return None\n",
        "        while k:\n",
        "            l.append(temp.val)\n",
        "            if temp.next==None:\n",
        "                break\n",
        "            temp=temp.next\n",
        "        lis=ListNode(l[0])\n",
        "        \n",
        "        for j in l[1:]:\n",
        "            lis=ListNode(j,lis)\n",
        "            \n",
        "        return lis\n",
        "        "
      ],
      "execution_count": null,
      "outputs": []
    },
    {
      "cell_type": "code",
      "metadata": {
        "id": "1zDqZ2zfiaQ3"
      },
      "source": [
        "# Definition for singly-linked list.\n",
        "# class ListNode:\n",
        "#     def __init__(self, val=0, next=None):\n",
        "#         self.val = val\n",
        "#         self.next = next\n",
        "class Solution:\n",
        "    def isPalindrome(self, head: ListNode) -> bool:\n",
        "        l=[]\n",
        "        k=1\n",
        "        temp=head\n",
        "        while k:\n",
        "            l.append(temp.val)\n",
        "            if temp.next==None:\n",
        "                break\n",
        "            temp=temp.next\n",
        "        yo=(len(l))\n",
        "        if yo==1:\n",
        "            return True\n",
        "        i=0\n",
        "        j=yo-1\n",
        "        p=0\n",
        "        while True:\n",
        "            p=p+1\n",
        "            if l[i]!=l[j]:\n",
        "                return False\n",
        "            if p==(yo//2):\n",
        "                break\n",
        "            i=i+1\n",
        "            j=j-1\n",
        "        return True\n",
        "        \n",
        "        \n",
        "        \n",
        "            \n",
        "        \n",
        "        "
      ],
      "execution_count": null,
      "outputs": []
    },
    {
      "cell_type": "code",
      "metadata": {
        "id": "FbP7Hn19iaTO"
      },
      "source": [
        "class Solution:\n",
        "    def searchMatrix(self, matrix: List[List[int]], target: int) -> bool:\n",
        "        c=[]\n",
        "        for i in range(len(matrix)):\n",
        "            c+=matrix[i]\n",
        "        c.sort()\n",
        "        \n",
        "        left=0\n",
        "        right=len(c)-1\n",
        "        while(left<=right):\n",
        "            mid=left+(right-left)//2\n",
        "            \n",
        "            if(c[mid]==target):\n",
        "                return True\n",
        "            elif(c[mid]>target):\n",
        "                right=mid-1\n",
        "            elif(c[mid]<target):\n",
        "                left=mid+1\n",
        "        return False\n",
        "\n",
        "        "
      ],
      "execution_count": null,
      "outputs": []
    },
    {
      "cell_type": "code",
      "metadata": {
        "id": "Ea3ii7I1iaVv"
      },
      "source": [
        "class Solution:\n",
        "    def missingNumber(self, nums: List[int]) -> int:\n",
        "        k=len(nums)\n",
        "        j=(k*(k+1))//2\n",
        "        sums=0\n",
        "        for i in nums:\n",
        "            sums=sums+i\n",
        "        return j-sums\n",
        "        "
      ],
      "execution_count": null,
      "outputs": []
    },
    {
      "cell_type": "code",
      "metadata": {
        "id": "7PSFRrGJiaYA"
      },
      "source": [
        "class Solution:\n",
        "    def search(self, nums: List[int], target: int) -> int:\n",
        "        k=len(nums)\n",
        "        k1=0\n",
        "        k2=k-1\n",
        "        k3=k-1\n",
        "        m=0\n",
        "        if nums[0]==target:\n",
        "            return 0\n",
        "        elif nums[-1]==target:\n",
        "            return k3\n",
        "        while k1<=k2:\n",
        "            m=(k1+k2)//2\n",
        "            \n",
        "            if nums[m]<target:\n",
        "                k1=m+1\n",
        "            elif nums[m]>target:\n",
        "                k2=m-1\n",
        "            elif nums[m]==target:\n",
        "                return m\n",
        "        return -1\n",
        "                "
      ],
      "execution_count": null,
      "outputs": []
    },
    {
      "cell_type": "code",
      "metadata": {
        "id": "saUVo4Cfiaa0"
      },
      "source": [
        ""
      ],
      "execution_count": null,
      "outputs": []
    },
    {
      "cell_type": "code",
      "metadata": {
        "id": "mitAksYMiac3"
      },
      "source": [
        ""
      ],
      "execution_count": null,
      "outputs": []
    },
    {
      "cell_type": "code",
      "metadata": {
        "id": "6KxbEEwMiafH"
      },
      "source": [
        ""
      ],
      "execution_count": null,
      "outputs": []
    },
    {
      "cell_type": "code",
      "metadata": {
        "id": "ZNcBnu3siaio"
      },
      "source": [
        ""
      ],
      "execution_count": null,
      "outputs": []
    },
    {
      "cell_type": "code",
      "metadata": {
        "id": "z8POSdlRgrjV"
      },
      "source": [
        ""
      ],
      "execution_count": null,
      "outputs": []
    },
    {
      "cell_type": "code",
      "metadata": {
        "id": "Axg2BNcwgrm0"
      },
      "source": [
        ""
      ],
      "execution_count": null,
      "outputs": []
    }
  ]
}